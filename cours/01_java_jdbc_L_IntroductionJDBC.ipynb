{
 "cells": [
  {
   "cell_type": "markdown",
   "metadata": {},
   "source": [
    "---\n",
    "  title: \"JDBC: Introduction à Java Database Connectivity\"\n",
    "  description: \"Introduction à la connection aux bases de données relationnelles en Java avec Introduction à Java Database Connectivity (JDBC).\"\n",
    "  categories: \n",
    "    - Java\n",
    "    - I111\n",
    "    - Lecture\n",
    "    - JavaFX\n",
    "    - IHM\n",
    "---"
   ]
  },
  {
   "cell_type": "markdown",
   "metadata": {},
   "source": [
    " * JDBC est une API intégrée à Java qui permet un accès simple aux Systèmes de Gestion de Dases de Données Relationnelles (SGBDR). \n",
    " * Son objectif est d'offrir une vision uniforme des SGDBR notament en s'appuyant sur SQL et en définissant des types adaptés à Java. \n",
    " * C'est une API qui permet de se connecter à une base de données, d'évaluer des requêtes et de parcourir l'ensemble des résultats.\n",
    " * JDBC aussi adaptable pour utiliser les spécifités d'un SGBDR donné mais au prix de la portabilité."
   ]
  },
  {
   "cell_type": "markdown",
   "metadata": {
    "tags": []
   },
   "source": [
    "## Système de gestion de base de données et Dataset\n",
    "\n",
    " * Dans le cadre de ce cours nous utiliserons le système de gestion de base données [h2](https://www.h2database.com). \n",
    " * Il s'agit d'un SGDB écrit en Java qui peut s'executer comme un serveur indépendant ou depuis un programme Java. Il peut aussi être utilisé purement en mémoire ou avec persistence sur disque.\n",
    "\n",
    "Pour l'utiliser il suffit de télécharger le fichier .jar de h2 par exemple la version [h2-2.2.224.jar](https://repo1.maven.org/maven2/com/h2database/h2/2.2.224/h2-2.2.224.jar) depuis un entrepôt maven.\n",
    "\n",
    "Le serveur peut être exécuté simplement avec la commande suivante pour autoriser les connexions tcp et la création automatique d'une base de données lors du premier accès. \n",
    "**Dans ce notebook, ouvrir un terminal en cliquant sur + en haut à gauche pour ouvrir un terminal.**\n",
    "H2 supporte aussi un mode de compatibilité avec POstgresQL que nous allons utiliser.\n",
    "\n",
    "```bash\n",
    "java -cp h2*.jar \\\n",
    "    org.h2.tools.Server \\\n",
    "        -webAllowOthers \\\n",
    "        -tcpAllowOthers \\\n",
    "        -pgAllowOthers \\\n",
    "        -ifNotExists \n",
    "```"
   ]
  },
  {
   "cell_type": "markdown",
   "metadata": {},
   "source": [
    "Une fois le serveur lancé il est possible d'executer un Shell SQL dans un autre terminal. \n",
    "Ici en mode de compatibilité postgresql avec *user* comme login et *secret* comme password.\n",
    "\n",
    "```bash\n",
    "java -cp h2*.jar org.h2.tools.Shell \\\n",
    "  -url \"jdbc:h2:tcp://localhost/~/testdb;MODE=PostgreSQL;DATABASE_TO_LOWER=TRUE\" \\\n",
    "  -user user -password secret\n",
    "```"
   ]
  },
  {
   "cell_type": "code",
   "execution_count": 1,
   "metadata": {
    "vscode": {
     "languageId": "java"
    }
   },
   "outputs": [
    {
     "name": "stderr",
     "output_type": "stream",
     "text": [
      "[2024-03-05T13:14:04.054+0000] [] [\u001b[1;93mWARNING\u001b[0m] [] [\u001b[1;94mPayaraMicro\u001b[0m] [tid: _ThreadID=34 _ThreadName=IJava-executor-0] [timeMillis: 1709644444054] [levelValue: 900] Payara Micro Runtime directory is located in a temporary file location which can be cleaned by system processes.\n",
      "\n"
     ]
    },
    {
     "name": "stderr",
     "output_type": "stream",
     "text": [
      "[2024-03-05T13:14:04.062+0000] [] [\u001b[1;92mINFO\u001b[0m] [] [\u001b[1;94mPayaraMicro\u001b[0m] [tid: _ThreadID=34 _ThreadName=IJava-executor-0] [timeMillis: 1709644444062] [levelValue: 800] Payara Micro Runtime directory is located at /tmp/payaramicro-6191761700226532509tmp\n",
      "\n"
     ]
    },
    {
     "name": "stderr",
     "output_type": "stream",
     "text": [
      "[2024-03-05T13:14:04.090+0000] [] [\u001b[1;92mINFO\u001b[0m] [] [\u001b[1;94mfish.payara.micro.boot.runtime.PayaraMicroRuntimeBuilder\u001b[0m] [tid: _ThreadID=34 _ThreadName=IJava-executor-0] [timeMillis: 1709644444090] [levelValue: 800] Built Payara Micro Runtime\n",
      "\n"
     ]
    },
    {
     "name": "stderr",
     "output_type": "stream",
     "text": [
      "[2024-03-05T13:14:05.299+0000] [] [\u001b[1;92mINFO\u001b[0m] [NCLS-CORE-00098] [\u001b[1;94mjavax.enterprise.system.core\u001b[0m] [tid: _ThreadID=34 _ThreadName=IJava-executor-0] [timeMillis: 1709644445299] [levelValue: 800] Cannot find h2db client jar file, h2 jdbc driver will not be available by default.\n",
      "\n"
     ]
    },
    {
     "name": "stderr",
     "output_type": "stream",
     "text": [
      "[2024-03-05T13:14:05.559+0000] [] [\u001b[1;92mINFO\u001b[0m] [NCLS-CORE-00013] [\u001b[1;94mjavax.enterprise.system.core\u001b[0m] [tid: _ThreadID=34 _ThreadName=IJava-executor-0] [timeMillis: 1709644445559] [levelValue: 800] Shutdown procedure finished\n",
      "\n"
     ]
    },
    {
     "name": "stderr",
     "output_type": "stream",
     "text": [
      "[2024-03-05T13:14:05.566+0000] [] [\u001b[1;92mINFO\u001b[0m] [NCLS-CORE-00098] [\u001b[1;94mjavax.enterprise.system.core\u001b[0m] [tid: _ThreadID=34 _ThreadName=IJava-executor-0] [timeMillis: 1709644445566] [levelValue: 800] Cannot find h2db client jar file, h2 jdbc driver will not be available by default.\n",
      "\n"
     ]
    },
    {
     "ename": "EvalException",
     "evalue": "A MultiException has 7 exceptions.  They are:\n1. org.glassfish.hk2.api.UnsatisfiedDependencyException: There was no object available in __HK2_Generated_0 for injection at SystemInjecteeImpl(requiredType=AuthorizationService,parent=CommandSecurityChecker,qualifiers={},position=-1,optional=false,self=false,unqualified=null,8957317)\n2. java.lang.IllegalArgumentException: While attempting to resolve the dependencies of com.sun.enterprise.admin.util.CommandSecurityChecker errors were found\n3. java.lang.IllegalStateException: Unable to perform operation: resolve on com.sun.enterprise.admin.util.CommandSecurityChecker\n4. java.lang.IllegalArgumentException: While attempting to resolve the dependencies of com.sun.enterprise.v3.admin.CommandRunnerImpl errors were found\n5. java.lang.IllegalStateException: Unable to perform operation: resolve on com.sun.enterprise.v3.admin.CommandRunnerImpl\n6. java.lang.IllegalArgumentException: While attempting to resolve the dependencies of com.sun.enterprise.admin.cli.embeddable.CommandExecutorImpl errors were found\n7. java.lang.IllegalStateException: Unable to perform operation: resolve on com.sun.enterprise.admin.cli.embeddable.CommandExecutorImpl\n",
     "output_type": "error",
     "traceback": [
      "\u001b[1m\u001b[31m---------------------------------------------------------------------------\u001b[0m",
      "\u001b[1m\u001b[31mfish.payara.micro.BootstrapException: A MultiException has 7 exceptions.  They are:\u001b[0m",
      "\u001b[1m\u001b[31m1. org.glassfish.hk2.api.UnsatisfiedDependencyException: There was no object available in __HK2_Generated_0 for injection at SystemInjecteeImpl(requiredType=AuthorizationService,parent=CommandSecurityChecker,qualifiers={},position=-1,optional=false,self=false,unqualified=null,8957317)\u001b[0m",
      "\u001b[1m\u001b[31m2. java.lang.IllegalArgumentException: While attempting to resolve the dependencies of com.sun.enterprise.admin.util.CommandSecurityChecker errors were found\u001b[0m",
      "\u001b[1m\u001b[31m3. java.lang.IllegalStateException: Unable to perform operation: resolve on com.sun.enterprise.admin.util.CommandSecurityChecker\u001b[0m",
      "\u001b[1m\u001b[31m4. java.lang.IllegalArgumentException: While attempting to resolve the dependencies of com.sun.enterprise.v3.admin.CommandRunnerImpl errors were found\u001b[0m",
      "\u001b[1m\u001b[31m5. java.lang.IllegalStateException: Unable to perform operation: resolve on com.sun.enterprise.v3.admin.CommandRunnerImpl\u001b[0m",
      "\u001b[1m\u001b[31m6. java.lang.IllegalArgumentException: While attempting to resolve the dependencies of com.sun.enterprise.admin.cli.embeddable.CommandExecutorImpl errors were found\u001b[0m",
      "\u001b[1m\u001b[31m7. java.lang.IllegalStateException: Unable to perform operation: resolve on com.sun.enterprise.admin.cli.embeddable.CommandExecutorImpl\u001b[0m",
      "\u001b[1m\u001b[31m\u001b[0m",
      "\u001b[1m\u001b[31m\tat fish.payara.micro.impl.PayaraMicroImpl.bootStrap(PayaraMicroImpl.java:1115)\u001b[0m",
      "\u001b[1m\u001b[31m\tat fish.payara.micro.PayaraMicro.bootStrap(PayaraMicro.java:150)\u001b[0m",
      "\u001b[1m\u001b[31m\tat .(#63:3)\u001b[0m"
     ]
    }
   ],
   "source": [
    "%maven fish.payara.extras:payara-micro:6.2023.10\n",
    "import fish.payara.micro.BootstrapException;\n",
    "import fish.payara.micro.PayaraMicro;\n",
    "import fish.payara.micro.PayaraMicroRuntime;\n",
    "\n",
    "PayaraMicroRuntime instance = PayaraMicro.getInstance()\n",
    "    .setUserLogFile(\"/tmp/payara.log\")\n",
    "    .bootStrap();"
   ]
  },
  {
   "cell_type": "code",
   "execution_count": 2,
   "metadata": {
    "vscode": {
     "languageId": "java"
    }
   },
   "outputs": [
    {
     "ename": "CompilationException",
     "evalue": "",
     "output_type": "error",
     "traceback": [
      "\u001b[1m\u001b[30m|   \u001b[1m\u001b[30mimport \u001b[0m\u001b[1m\u001b[30m\u001b[41morg.h2.tools.Server\u001b[0m\u001b[1m\u001b[30m;\u001b[0m",
      "\u001b[1m\u001b[31mpackage org.h2.tools does not exist\u001b[0m",
      ""
     ]
    }
   ],
   "source": [
    "import java.sql.SQLException;\n",
    "import org.h2.tools.Server;\n",
    "\n",
    "public class DBManager {\n",
    "    public static void startDB() throws SQLException {\n",
    "        Server.createTcpServer(\"-tcpPort\", \"9092\", \n",
    "                               \"-tcpAllowOthers\",\"-pgAllowOthers\",\n",
    "                               \"-ifNotExists\",\"-baseDir\",\"/tmp/db\").start();\n",
    "    }\n",
    "\n",
    "    public static void stopDB() throws SQLException {\n",
    "        Server.shutdownTcpServer(\"tcp://localhost:9092\", \"\", true, true);\n",
    "    }\n",
    "}"
   ]
  },
  {
   "cell_type": "code",
   "execution_count": 3,
   "metadata": {
    "vscode": {
     "languageId": "java"
    }
   },
   "outputs": [
    {
     "ename": "CompilationException",
     "evalue": "",
     "output_type": "error",
     "traceback": [
      "\u001b[1m\u001b[30m|   \u001b[1m\u001b[30m\u001b[0m\u001b[1m\u001b[30m\u001b[41mDBManager\u001b[0m\u001b[1m\u001b[30m.startDB();\u001b[0m",
      "\u001b[1m\u001b[31mcannot find symbol\u001b[0m",
      "\u001b[1m\u001b[31m  symbol:   variable DBManager\u001b[0m",
      ""
     ]
    }
   ],
   "source": [
    "//DBManager.stopDB();\n",
    "DBManager.startDB();"
   ]
  },
  {
   "cell_type": "markdown",
   "metadata": {},
   "source": [
    "Dans ce cours nous allons utiliser une base de données qui représente des données de transport (des bus) au format [GTFS](https://developers.google.com/transit/gtfs/reference/#general_transit_feed_specification_reference). Le chargement initial peut être un peu long. "
   ]
  },
  {
   "cell_type": "code",
   "execution_count": 4,
   "metadata": {
    "vscode": {
     "languageId": "java"
    }
   },
   "outputs": [
    {
     "name": "stderr",
     "output_type": "stream",
     "text": [
      "zsh:1: no matches found: h2*.jar\n"
     ]
    }
   ],
   "source": [
    "%%shell\n",
    "java -cp h2*.jar org.h2.tools.RunScript \\\n",
    "     -url \"jdbc:h2:tcp://localhost/Gtfs_RMTT;MODE=PostgreSQL;DATABASE_TO_LOWER=TRUE\" \\\n",
    "     -user sa \\\n",
    "     -script data.sql"
   ]
  },
  {
   "cell_type": "markdown",
   "metadata": {},
   "source": [
    "Définissons tout d'abord simplement une classe Java pour représenter l'une des entités de l'exemple, un arrêt de bus.\n",
    "Nous utiliserons un record Java (non mutable)."
   ]
  },
  {
   "cell_type": "code",
   "execution_count": 5,
   "metadata": {
    "vscode": {
     "languageId": "java"
    }
   },
   "outputs": [],
   "source": [
    "record Stop(long id, String name, float lat, float lon, String code) { }"
   ]
  },
  {
   "cell_type": "code",
   "execution_count": 6,
   "metadata": {
    "vscode": {
     "languageId": "java"
    }
   },
   "outputs": [
    {
     "data": {
      "text/plain": [
       "\u001b[36mstop\u001b[0m: Stop[id=1, name=X, lat=5.9333, lon=43.1167, code=X]"
      ]
     },
     "execution_count": 6,
     "metadata": {},
     "output_type": "execute_result"
    }
   ],
   "source": [
    "Stop stop=new Stop(1,\"X\",5.9333F, 43.1167F, \"X\");\n",
    "stop"
   ]
  },
  {
   "cell_type": "markdown",
   "metadata": {
    "jp-MarkdownHeadingCollapsed": true
   },
   "source": [
    "## The JDBC Driver for postgresql\n",
    "Pour se connecter à un SGBDR spécifique il faut disposer d'une implantation particulière d'un Driver (qui devra être ajouté à l'application). \n",
    "Il existe quatre familles de drivers JDBC :\n",
    "\n",
    "  * Type 1 - s'appuie sur un autre driver (par exemple JDBC-ODBC)\n",
    "  * Type 2 - utilise une implatation native d'un driver coté client.\n",
    "  * Type 3 - utilise un middleware pour convertir les appels JDBC en appel s propriétaires du SGBDR.\n",
    "  * Type 4 - offre une connection directe depuis une implantation Java (thin driver).\n",
    "\n",
    "Le type 4 est le plus courant. Il est indépendant de la plateforme et offre de meilleures performances en se connectant directement à la base de données. "
   ]
  },
  {
   "cell_type": "markdown",
   "metadata": {
    "jp-MarkdownHeadingCollapsed": true
   },
   "source": [
    "## Ouverture d'une connexion\n",
    "Pour ouvrir une connection, il faut charger la classe de l'implantation du Driver et ouvrir une connexion. En théorie, on devrait utiliser ```Class.forName(\"nom de la classe d'implantation\")``` en pratique JDBC le fait automatique en fonction de l'URL lors de la connexion.\n",
    "\n",
    "La première chose à faire est d'ajouter l'implantation du Driver pour la  base de données visée. Par exemple, en ajoutant à Maven une dépendance pour PostgreSQL."
   ]
  },
  {
   "cell_type": "markdown",
   "metadata": {},
   "source": [
    "Pour ouvrir une connexion, on utilise une URL dont la forme est spécifique à chaque SGBD par exemple pour [MySQL](https://dev.mysql.com/doc/connector-j/5.1/en/connector-j-usagenotes-connect-drivermanager.html), [PostgreSQL](https://jdbc.postgresql.org/) ou [H2](http://www.h2database.com/html/features.html) (une base de données relationnel en pur Java):\n",
    "\n",
    "  * ```jdbc:mysql://localhost:3306/myDatabase?user=username&password=password```\n",
    "  * ```jdbc:postgresql://localhost/myDatabase```\n",
    "  * ```jdbc:h2:mem:myDatabase```\n",
    "\n",
    "Les informations d'authentification peuvent parfois être donnés dans l'URL ou lors de l'appel de la méthode ```Connection DriverManager.getConnection(jdbcURL)```."
   ]
  },
  {
   "cell_type": "code",
   "execution_count": 7,
   "metadata": {
    "vscode": {
     "languageId": "java"
    }
   },
   "outputs": [
    {
     "ename": "EvalException",
     "evalue": "No suitable driver found for jdbc:h2:tcp://localhost/Gtfs_RMTT;MODE=PostgreSQL;DATABASE_TO_LOWER=TRUE",
     "output_type": "error",
     "traceback": [
      "\u001b[1m\u001b[31m---------------------------------------------------------------------------\u001b[0m",
      "\u001b[1m\u001b[31mjava.sql.SQLException: No suitable driver found for jdbc:h2:tcp://localhost/Gtfs_RMTT;MODE=PostgreSQL;DATABASE_TO_LOWER=TRUE\u001b[0m",
      "\u001b[1m\u001b[31m\tat java.sql/java.sql.DriverManager.getConnection(DriverManager.java:708)\u001b[0m",
      "\u001b[1m\u001b[31m\tat java.sql/java.sql.DriverManager.getConnection(DriverManager.java:230)\u001b[0m",
      "\u001b[1m\u001b[31m\tat .(#76:1)\u001b[0m"
     ]
    }
   ],
   "source": [
    "import java.sql.Connection;\n",
    "import java.sql.DriverManager;\n",
    "//String jdbcURL=\"jdbc:postgresql://db:5432/dvdrental?user=postgres&password=changeme\";\n",
    "String jdbcURL=\"jdbc:h2:tcp://localhost/Gtfs_RMTT;MODE=PostgreSQL;DATABASE_TO_LOWER=TRUE\";\n",
    "\n",
    "Connection connection = DriverManager.getConnection(jdbcURL,\"sa\",\"\")\n"
   ]
  },
  {
   "cell_type": "markdown",
   "metadata": {
    "jp-MarkdownHeadingCollapsed": true
   },
   "source": [
    "## Exécution de requêtes SQL\n",
    "\n",
    "Pour exécuter des requetes SQL on utilise des instances de la classes ```Statement```.\n",
    "\n",
    "Il existe trois types de statements :\n",
    "\n",
    "  * statement: requêtes simples\n",
    "  * prepared statement: requêtes précompilées\n",
    "  * callable statement: procédures stockées\n",
    "\n",
    "Un statement est créé à partir d'une connection."
   ]
  },
  {
   "cell_type": "markdown",
   "metadata": {},
   "source": [
    "## Les requêtes simples\n",
    "\n",
    "La méthode à appeler est différente suivant la nature de la requêtes SQL que l’on veut exécuter :\n",
    "\n",
    "  * Consultation (select)\n",
    "    * executeQuery() On parcours les t-uples avec un ResultSet\n",
    "\n",
    "  * Mise à jour (update, insert, delete) ou gestion de la base de données (create table,...)\n",
    "    * executeUpdate() renvoie le nombre de lignes modifiées\n",
    "\n",
    "  * Type inconnu (ex. donné par un fonction sous forme de String) ou si la requêtes peut renvoyer plusieurs résultats (procédures stockées)\n",
    "    * execute()"
   ]
  },
  {
   "cell_type": "code",
   "execution_count": 8,
   "metadata": {
    "vscode": {
     "languageId": "java"
    }
   },
   "outputs": [
    {
     "ename": "EvalException",
     "evalue": "Cannot invoke \"java.sql.Connection.createStatement()\" because \"REPL.$JShell$76.connection\" is null",
     "output_type": "error",
     "traceback": [
      "\u001b[1m\u001b[31m---------------------------------------------------------------------------\u001b[0m",
      "\u001b[1m\u001b[31mjava.lang.NullPointerException: Cannot invoke \"java.sql.Connection.createStatement()\" because \"REPL.$JShell$76.connection\" is null\u001b[0m",
      "\u001b[1m\u001b[31m\tat .(#79:1)\u001b[0m"
     ]
    }
   ],
   "source": [
    "import java.sql.Statement;\n",
    "import java.sql.ResultSet;\n",
    "// Une requête simple\n",
    "Statement statement = connection.createStatement();\n",
    "String query1 = \"SELECT * FROM gtfs_stops LIMIT 5\";\n",
    "ResultSet resultSet = statement.executeQuery(query1);"
   ]
  },
  {
   "cell_type": "markdown",
   "metadata": {
    "jp-MarkdownHeadingCollapsed": true
   },
   "source": [
    "## Parcours des résultats\n",
    "* executeQuery() retourne de ResultSet\n",
    "* L’interface ResultSet définit les méthodes pour accéder au valeur des attributs\n",
    "  * getXXX(int numéroDeColonne)\n",
    "  * getXXX(String nomDeColonne)\n",
    "  * XXX désigne le type Java de la valeur que l'on va récupérer (Byte, Boolean, AsciiStream, Short, String UnicodeStream, Int Bytes, BinaryStream, Long, Date, Object, Float, Time, BigDecimal,TimeStamp)\n",
    "* A Noter : données volumineuses (ex. Blob)\n",
    "  * Ouverture d'un flux"
   ]
  },
  {
   "cell_type": "code",
   "execution_count": 9,
   "metadata": {
    "vscode": {
     "languageId": "java"
    }
   },
   "outputs": [
    {
     "ename": "CompilationException",
     "evalue": "",
     "output_type": "error",
     "traceback": [
      "\u001b[1m\u001b[30m|   \u001b[1m\u001b[30mwhile (\u001b[0m\u001b[1m\u001b[30m\u001b[41mresultSet\u001b[0m\u001b[1m\u001b[30m.next()) {\u001b[0m",
      "\u001b[1m\u001b[31mcannot find symbol\u001b[0m",
      "\u001b[1m\u001b[31m  symbol:   variable resultSet\u001b[0m",
      "",
      "\u001b[1m\u001b[30m|   \u001b[1m\u001b[30m        stops.add(new Stop(\u001b[0m\u001b[1m\u001b[30m\u001b[41mresultSet\u001b[0m\u001b[1m\u001b[30m.getLong(\"stop_id\"),\u001b[0m",
      "\u001b[1m\u001b[31mcannot find symbol\u001b[0m",
      "\u001b[1m\u001b[31m  symbol:   variable resultSet\u001b[0m",
      "",
      "\u001b[1m\u001b[30m|   \u001b[1m\u001b[30m                \u001b[0m\u001b[1m\u001b[30m\u001b[41mresultSet\u001b[0m\u001b[1m\u001b[30m.getString(\"stop_name\"),\u001b[0m",
      "\u001b[1m\u001b[31mcannot find symbol\u001b[0m",
      "\u001b[1m\u001b[31m  symbol:   variable resultSet\u001b[0m",
      "",
      "\u001b[1m\u001b[30m|   \u001b[1m\u001b[30m                \u001b[0m\u001b[1m\u001b[30m\u001b[41mresultSet\u001b[0m\u001b[1m\u001b[30m.getFloat(\"stop_lat\"),\u001b[0m",
      "\u001b[1m\u001b[31mcannot find symbol\u001b[0m",
      "\u001b[1m\u001b[31m  symbol:   variable resultSet\u001b[0m",
      "",
      "\u001b[1m\u001b[30m|   \u001b[1m\u001b[30m                \u001b[0m\u001b[1m\u001b[30m\u001b[41mresultSet\u001b[0m\u001b[1m\u001b[30m.getFloat(\"stop_lon\"),\u001b[0m",
      "\u001b[1m\u001b[31mcannot find symbol\u001b[0m",
      "\u001b[1m\u001b[31m  symbol:   variable resultSet\u001b[0m",
      "",
      "\u001b[1m\u001b[30m|   \u001b[1m\u001b[30m                \u001b[0m\u001b[1m\u001b[30m\u001b[41mresultSet\u001b[0m\u001b[1m\u001b[30m.getString(\"stop_code\")));\u001b[0m",
      "\u001b[1m\u001b[31mcannot find symbol\u001b[0m",
      "\u001b[1m\u001b[31m  symbol:   variable resultSet\u001b[0m",
      ""
     ]
    }
   ],
   "source": [
    "import java.util.List;\n",
    "import java.util.ArrayList;\n",
    "List<Stop> stops = new ArrayList<>();\n",
    "while (resultSet.next()) {\n",
    "        stops.add(new Stop(resultSet.getLong(\"stop_id\"),\n",
    "                resultSet.getString(\"stop_name\"),\n",
    "                resultSet.getFloat(\"stop_lat\"),\n",
    "                resultSet.getFloat(\"stop_lon\"),\n",
    "                resultSet.getString(\"stop_code\")));\n",
    "}\n",
    "System.out.println(stops);"
   ]
  },
  {
   "cell_type": "code",
   "execution_count": 10,
   "metadata": {
    "vscode": {
     "languageId": "java"
    }
   },
   "outputs": [
    {
     "ename": "EvalException",
     "evalue": "Cannot invoke \"java.sql.Connection.createStatement()\" because \"REPL.$JShell$76.connection\" is null",
     "output_type": "error",
     "traceback": [
      "\u001b[1m\u001b[31m---------------------------------------------------------------------------\u001b[0m",
      "\u001b[1m\u001b[31mjava.lang.NullPointerException: Cannot invoke \"java.sql.Connection.createStatement()\" because \"REPL.$JShell$76.connection\" is null\u001b[0m",
      "\u001b[1m\u001b[31m\tat .(#79:1)\u001b[0m"
     ]
    }
   ],
   "source": [
    "Statement statement = connection.createStatement();\n",
    "String query1 = \"\"\"\n",
    "    INSERT INTO gtfs_agency(agency_id, agency_name, agency_url, agency_timezone, agency_lang)\n",
    "    VALUES(2, 'Neverland', 'http://nowhere.fr', 'Europe/Paris','fr')\"\"\";\n",
    "int numberOfChanges = statement.executeUpdate(query1);"
   ]
  },
  {
   "cell_type": "markdown",
   "metadata": {
    "jp-MarkdownHeadingCollapsed": true
   },
   "source": [
    "## Les exceptions\n",
    "* Erreur dans le code SQL : SQLException\n",
    "* Avertissement lors de l'exécution (SQLWarning)\n",
    "  * Problèmes de conversion de données (DataTruncation - sous-classe de SQLWarning)"
   ]
  },
  {
   "cell_type": "code",
   "execution_count": 11,
   "metadata": {
    "vscode": {
     "languageId": "java"
    }
   },
   "outputs": [
    {
     "name": "stdout",
     "output_type": "stream",
     "text": [
      "No suitable driver found for jdbc:h2:tcp://localhost/Gtfs_RMTT;MODE=PostgreSQL;DATABASE_TO_LOWER=TRUE\n"
     ]
    }
   ],
   "source": [
    "//Traitement d'une erreur SQL\n",
    "import java.sql.SQLException;\n",
    "String wrongQuery = \" SELECT * FROM Employee\" ;\n",
    "try (Connection connection = DriverManager.getConnection(jdbcURL,\"sa\",\"\");\n",
    "            Statement statement = connection.createStatement();\n",
    "            ResultSet resultSet = statement.executeQuery(wrongQuery)) {\n",
    "        // Do stuff here\n",
    "        } catch (SQLException e) {\n",
    "            //Erreur lors de la requête\n",
    "            System.out.println(e.getMessage());        \n",
    "        }"
   ]
  },
  {
   "cell_type": "markdown",
   "metadata": {
    "jp-MarkdownHeadingCollapsed": true
   },
   "source": [
    "## Un exemple complet"
   ]
  },
  {
   "cell_type": "markdown",
   "metadata": {},
   "source": [
    "Voilà un exemple complet avec la classique des exceptions. Attention, quand une connection n'est plus utilisée il faut la fermer pour libérer les ressources sur le SGBD."
   ]
  },
  {
   "cell_type": "code",
   "execution_count": 12,
   "metadata": {
    "vscode": {
     "languageId": "java"
    }
   },
   "outputs": [
    {
     "name": "stderr",
     "output_type": "stream",
     "text": [
      "java.sql.SQLException: No suitable driver found for jdbc:h2:tcp://localhost/Gtfs_RMTT;MODE=PostgreSQL;DATABASE_TO_LOWER=TRUE\n"
     ]
    },
    {
     "name": "stderr",
     "output_type": "stream",
     "text": [
      "\tat java.sql/java.sql.DriverManager.getConnection(DriverManager.java:708)\n"
     ]
    },
    {
     "name": "stderr",
     "output_type": "stream",
     "text": [
      "\tat java.sql/java.sql.DriverManager.getConnection(DriverManager.java:230)\n"
     ]
    },
    {
     "name": "stderr",
     "output_type": "stream",
     "text": [
      "\tat REPL.$JShell$87.do_it$($JShell$87.java:59)\n"
     ]
    },
    {
     "name": "stderr",
     "output_type": "stream",
     "text": [
      "\tat java.base/jdk.internal.reflect.DirectMethodHandleAccessor.invoke(DirectMethodHandleAccessor.java:103)\n"
     ]
    },
    {
     "name": "stderr",
     "output_type": "stream",
     "text": [
      "\tat java.base/java.lang.reflect.Method.invoke(Method.java:580)\n"
     ]
    },
    {
     "name": "stderr",
     "output_type": "stream",
     "text": [
      "\tat io.github.spencerpark.ijava.execution.IJavaExecutionControl.lambda$execute$1(IJavaExecutionControl.java:95)\n"
     ]
    },
    {
     "name": "stderr",
     "output_type": "stream",
     "text": [
      "\tat java.base/java.util.concurrent.FutureTask.run(FutureTask.java:317)\n"
     ]
    },
    {
     "name": "stderr",
     "output_type": "stream",
     "text": [
      "\tat java.base/java.util.concurrent.ThreadPoolExecutor.runWorker(ThreadPoolExecutor.java:1144)\n"
     ]
    },
    {
     "name": "stderr",
     "output_type": "stream",
     "text": [
      "\tat java.base/java.util.concurrent.ThreadPoolExecutor$Worker.run(ThreadPoolExecutor.java:642)\n"
     ]
    },
    {
     "name": "stderr",
     "output_type": "stream",
     "text": [
      "\tat java.base/java.lang.Thread.run(Thread.java:1583)\n"
     ]
    }
   ],
   "source": [
    " String jdbcURL=\"jdbc:h2:tcp://localhost/Gtfs_RMTT;MODE=PostgreSQL;DATABASE_TO_LOWER=TRUE\";\n",
    "\n",
    "        Connection connection = null;\n",
    "        ResultSet resultSet = null;\n",
    "        Statement statement = null;\n",
    "        try {\n",
    "            connection = DriverManager.getConnection(jdbcURL,\"sa\",\"\");\n",
    "            statement = connection.createStatement();\n",
    "            String query1 = \"SELECT * FROM gtfs_stops LIMIT 5\";\n",
    "            resultSet = statement.executeQuery(query1);\n",
    "\n",
    "            List<Stop> stops = new ArrayList<>();\n",
    "            while (resultSet.next()) {\n",
    "             stops.add(new Stop(resultSet.getLong(\"stop_id\"),\n",
    "                resultSet.getString(\"stop_name\"),\n",
    "                resultSet.getFloat(\"stop_lat\"),\n",
    "                resultSet.getFloat(\"stop_lon\"),\n",
    "                resultSet.getString(\"stop_code\")));\n",
    "         }\n",
    "            System.out.println(stops);\n",
    "        } catch (SQLException e) {\n",
    "            //Erreur lors de la requête\n",
    "            e.printStackTrace();\n",
    "        } finally {\n",
    "            if (resultSet != null) {\n",
    "                try {\n",
    "                    resultSet.close();\n",
    "                } catch (SQLException e) { /* ignored */}\n",
    "            }\n",
    "            if (connection != null) {\n",
    "                try {\n",
    "                    connection.close();\n",
    "                } catch (SQLException e) { /* ignored */}\n",
    "            }\n",
    "        }"
   ]
  },
  {
   "cell_type": "markdown",
   "metadata": {},
   "source": [
    "A partir de Java 7 une syntaxe particulière (try-with-ressources) est possible pour fermer automatiquement certaines ressources dont les connections et les ResultSet JDBC."
   ]
  },
  {
   "cell_type": "code",
   "execution_count": 13,
   "metadata": {
    "vscode": {
     "languageId": "java"
    }
   },
   "outputs": [
    {
     "name": "stderr",
     "output_type": "stream",
     "text": [
      "java.sql.SQLException: No suitable driver found for jdbc:h2:tcp://localhost/Gtfs_RMTT;MODE=PostgreSQL;DATABASE_TO_LOWER=TRUE\n"
     ]
    },
    {
     "name": "stderr",
     "output_type": "stream",
     "text": [
      "\tat java.sql/java.sql.DriverManager.getConnection(DriverManager.java:708)\n"
     ]
    },
    {
     "name": "stderr",
     "output_type": "stream",
     "text": [
      "\tat java.sql/java.sql.DriverManager.getConnection(DriverManager.java:230)\n"
     ]
    },
    {
     "name": "stderr",
     "output_type": "stream",
     "text": [
      "\tat REPL.$JShell$89.do_it$($JShell$89.java:59)\n"
     ]
    },
    {
     "name": "stderr",
     "output_type": "stream",
     "text": [
      "\tat java.base/jdk.internal.reflect.DirectMethodHandleAccessor.invoke(DirectMethodHandleAccessor.java:103)\n"
     ]
    },
    {
     "name": "stderr",
     "output_type": "stream",
     "text": [
      "\tat java.base/java.lang.reflect.Method.invoke(Method.java:580)\n"
     ]
    },
    {
     "name": "stderr",
     "output_type": "stream",
     "text": [
      "\tat io.github.spencerpark.ijava.execution.IJavaExecutionControl.lambda$execute$1(IJavaExecutionControl.java:95)\n"
     ]
    },
    {
     "name": "stderr",
     "output_type": "stream",
     "text": [
      "\tat java.base/java.util.concurrent.FutureTask.run(FutureTask.java:317)\n"
     ]
    },
    {
     "name": "stderr",
     "output_type": "stream",
     "text": [
      "\tat java.base/java.util.concurrent.ThreadPoolExecutor.runWorker(ThreadPoolExecutor.java:1144)\n"
     ]
    },
    {
     "name": "stderr",
     "output_type": "stream",
     "text": [
      "\tat java.base/java.util.concurrent.ThreadPoolExecutor$Worker.run(ThreadPoolExecutor.java:642)\n"
     ]
    },
    {
     "name": "stderr",
     "output_type": "stream",
     "text": [
      "\tat java.base/java.lang.Thread.run(Thread.java:1583)\n"
     ]
    }
   ],
   "source": [
    " String jdbcURL=\"jdbc:h2:tcp://localhost/Gtfs_RMTT;MODE=PostgreSQL;DATABASE_TO_LOWER=TRUE\";\n",
    "\n",
    "        String query1 = \"SELECT * FROM gtfs_stops LIMIT 5\";\n",
    "        List<Stop> stops = new ArrayList<>();\n",
    "\n",
    "        try (Connection connection = DriverManager.getConnection(jdbcURL,\"sa\",\"\")) {\n",
    "            ResultSet resultSet = null;\n",
    "            Statement statement = null;\n",
    "            statement = connection.createStatement();\n",
    "            resultSet = statement.executeQuery(query1);\n",
    "\n",
    "            while (resultSet.next()) {\n",
    "             stops.add(new Stop(resultSet.getLong(\"stop_id\"),\n",
    "                resultSet.getString(\"stop_name\"),\n",
    "                resultSet.getFloat(\"stop_lat\"),\n",
    "                resultSet.getFloat(\"stop_lon\"),\n",
    "                resultSet.getString(\"stop_code\")));\n",
    "            }\n",
    "            System.out.println(stops);\n",
    "        } catch (SQLException e) {\n",
    "            //Erreur lors de la requête\n",
    "            e.printStackTrace();\n",
    "        }"
   ]
  },
  {
   "cell_type": "markdown",
   "metadata": {},
   "source": [
    "## Types  Java/JDBC et SQL\n",
    "* Malgré SQL les SGBD présentent des différences de types\n",
    "* JDBC masque ces différences en définissant ses propres types SQL (constantes de la classe Types)\n",
    "* Le driver assure la conversion\n",
    "  * SQL vers Java lors de la lecture\n",
    "  * Java vers SQL lors du passage de paramètres\n",
    "* Utilisés explicitement avec les methodes getXXX() (et setXXX())\n",
    "* Parfois plusieurs choix (presque tous les types SQL peuvent être retrouvés par getString())\n",
    "  * CHAR et VARCHAR : getString()\n",
    "  * LONGVARCHAR : getAsciiStream() et getCharacterStream()\n",
    "  * BINARY et VARBINARY : getBytes()\n",
    "  * LONGVARBINARY : getBinaryStream()\n",
    "  * REAL : getFloat(), DOUBLE et FLOAT : getDouble()\n",
    "  * DECIMAL et NUMERIC : getBigDecimal()\n",
    "  * DATE : getDate(), TIME : getTime(), TIMESTAMP :getTimestamp()"
   ]
  },
  {
   "cell_type": "markdown",
   "metadata": {},
   "source": [
    "* Par défaut une connexion est ouverte en « auto-\n",
    "commit » :\n",
    "  * un commit est automatiquement lancé après chaque requete SQL qui fait une mise à jour\n",
    "* Pour un contrôle plus fin on utilise\n",
    "```java\n",
    "conn.setAutoCommit(false) //pour le désactiver\n",
    "conn.commit() //pour valider la transaction\n",
    "conn.rollback() //pour annuler la transaction\n",
    "```"
   ]
  },
  {
   "cell_type": "markdown",
   "metadata": {},
   "source": [
    "## Précompilation des requêtes\n",
    "* Si les requêtes fabriquées à partir de String changent (paramètres) :\n",
    "  * Elles sont compilées à chaque appel d'où une perte de\n",
    "performances\n",
    "* JDBC permet de ne compiler la requête qu'une fois (si le\n",
    "SGBD le supporte)\n",
    "  * En indiquant les paramètres de façon générique\n",
    "  * En fixant leur valeur (sans changer la requête) au moment\n",
    "de l'exécution\n",
    "* Deux Statement particuliers :\n",
    "  * Les requêtes paramétrées (PreparedStatement)\n",
    "Les procédures stockées (CallableStatement)"
   ]
  },
  {
   "cell_type": "code",
   "execution_count": 14,
   "metadata": {
    "vscode": {
     "languageId": "java"
    }
   },
   "outputs": [
    {
     "name": "stderr",
     "output_type": "stream",
     "text": [
      "java.sql.SQLException: No suitable driver found for jdbc:h2:tcp://localhost/Gtfs_RMTT;MODE=PostgreSQL;DATABASE_TO_LOWER=TRUE\n"
     ]
    },
    {
     "name": "stderr",
     "output_type": "stream",
     "text": [
      "\tat java.sql/java.sql.DriverManager.getConnection(DriverManager.java:708)\n"
     ]
    },
    {
     "name": "stderr",
     "output_type": "stream",
     "text": [
      "\tat java.sql/java.sql.DriverManager.getConnection(DriverManager.java:230)\n"
     ]
    },
    {
     "name": "stderr",
     "output_type": "stream",
     "text": [
      "\tat REPL.$JShell$91.do_it$($JShell$91.java:58)\n"
     ]
    },
    {
     "name": "stderr",
     "output_type": "stream",
     "text": [
      "\tat java.base/jdk.internal.reflect.DirectMethodHandleAccessor.invoke(DirectMethodHandleAccessor.java:103)\n"
     ]
    },
    {
     "name": "stderr",
     "output_type": "stream",
     "text": [
      "\tat java.base/java.lang.reflect.Method.invoke(Method.java:580)\n"
     ]
    },
    {
     "name": "stderr",
     "output_type": "stream",
     "text": [
      "\tat io.github.spencerpark.ijava.execution.IJavaExecutionControl.lambda$execute$1(IJavaExecutionControl.java:95)\n"
     ]
    },
    {
     "name": "stderr",
     "output_type": "stream",
     "text": [
      "\tat java.base/java.util.concurrent.FutureTask.run(FutureTask.java:317)\n"
     ]
    },
    {
     "name": "stderr",
     "output_type": "stream",
     "text": [
      "\tat java.base/java.util.concurrent.ThreadPoolExecutor.runWorker(ThreadPoolExecutor.java:1144)\n"
     ]
    },
    {
     "name": "stderr",
     "output_type": "stream",
     "text": [
      "\tat java.base/java.util.concurrent.ThreadPoolExecutor$Worker.run(ThreadPoolExecutor.java:642)\n"
     ]
    },
    {
     "name": "stderr",
     "output_type": "stream",
     "text": [
      "\tat java.base/java.lang.Thread.run(Thread.java:1583)\n"
     ]
    },
    {
     "name": "stdout",
     "output_type": "stream",
     "text": [
      "[]\n"
     ]
    }
   ],
   "source": [
    "import java.sql.PreparedStatement;\n",
    "List<Stop> stops = new ArrayList<>();\n",
    "try (Connection connection = DriverManager.getConnection(jdbcURL,\"sa\",\"\")) {\n",
    " PreparedStatement preparedStatement = \n",
    "     connection.prepareStatement(\"SELECT * FROM gtfs_stops WHERE stop_id = ?\");\n",
    " int[] ids={100034,100040,100063};\n",
    " //Juste pour illuster le cas ou une requête revient fréquement, mieux vaudrait une seule requêtes SQL\n",
    " for(int id:ids) {\n",
    "    preparedStatement.setInt(1,id);\n",
    "    ResultSet resultSet = preparedStatement.executeQuery();\n",
    "            while (resultSet.next()) {\n",
    "             stops.add(new Stop(resultSet.getLong(\"stop_id\"),\n",
    "                resultSet.getString(\"stop_name\"),\n",
    "                resultSet.getFloat(\"stop_lat\"),\n",
    "                resultSet.getFloat(\"stop_lon\"),\n",
    "                resultSet.getString(\"stop_code\")));\n",
    "            }\n",
    " }\n",
    " } catch (SQLException e) {\n",
    "            //Erreur lors de la requête\n",
    "            e.printStackTrace();\n",
    "        }\n",
    "System.out.println(stops);"
   ]
  },
  {
   "cell_type": "markdown",
   "metadata": {},
   "source": [
    "## Les transactions"
   ]
  },
  {
   "cell_type": "code",
   "execution_count": 15,
   "metadata": {
    "vscode": {
     "languageId": "java"
    }
   },
   "outputs": [
    {
     "ename": "EvalException",
     "evalue": "No suitable driver found for jdbc:h2:tcp://localhost/Gtfs_RMTT;MODE=PostgreSQL;DATABASE_TO_LOWER=TRUE",
     "output_type": "error",
     "traceback": [
      "\u001b[1m\u001b[31m---------------------------------------------------------------------------\u001b[0m",
      "\u001b[1m\u001b[31mjava.sql.SQLException: No suitable driver found for jdbc:h2:tcp://localhost/Gtfs_RMTT;MODE=PostgreSQL;DATABASE_TO_LOWER=TRUE\u001b[0m",
      "\u001b[1m\u001b[31m\tat java.sql/java.sql.DriverManager.getConnection(DriverManager.java:708)\u001b[0m",
      "\u001b[1m\u001b[31m\tat java.sql/java.sql.DriverManager.getConnection(DriverManager.java:230)\u001b[0m",
      "\u001b[1m\u001b[31m\tat .(#76:1)\u001b[0m"
     ]
    }
   ],
   "source": [
    "Connection connection = DriverManager.getConnection(jdbcURL, \"sa\",\"\");\n",
    "\n",
    "\n",
    "//Create a account table\n",
    "String createAccountTableSql=\"CREATE TABLE account (\"+\n",
    "    \"id SERIAL PRIMARY KEY,\"+\n",
    "    \"name VARCHAR(100) NOT NULL,\"+\n",
    "    \"balance DEC(15,2) NOT NULL)\";\n",
    "Statement statement = connection.createStatement();\n",
    "statement.executeUpdate(createAccountTableSql);\n",
    "statement.close();\n",
    "\n",
    "    \n",
    "//Create accounts for Alice and Bob with a prepared statement\n",
    "String createAccountSql = \"INSERT INTO account(name,balance) VALUES(?,?);\";\n",
    "PreparedStatement pstmt = connection.prepareStatement(createAccountSql);\n",
    "pstmt.setString(1,\"Bob\");\n",
    "pstmt.setInt(2, 1000);\n",
    "pstmt.executeUpdate();\n",
    "\n",
    "pstmt.setString(1,\"Alice\");\n",
    "pstmt.setInt(2, 1000);\n",
    "pstmt.executeUpdate();\n",
    "\n",
    "pstmt.close();\n",
    "\n",
    "PreparedStatement pstmtIncreaseAccount = connection.prepareStatement(\"UPDATE account SET balance = balance + ? WHERE id = ?\");\n",
    "\n",
    "//save autoCommit state\n",
    "boolean autoCommit = connection.getAutoCommit();\n",
    "try {\n",
    "    connection.setAutoCommit(false);\n",
    "    //remove 500€ to Bob\n",
    "    pstmtIncreaseAccount.setInt(1,-500);\n",
    "    pstmtIncreaseAccount.setInt(2,1);\n",
    "    pstmtIncreaseAccount.executeUpdate();\n",
    "    \n",
    "    //add 500€ to Alice\n",
    "    pstmtIncreaseAccount.setInt(1,500);\n",
    "    pstmtIncreaseAccount.setInt(2,2);\n",
    "    pstmtIncreaseAccount.executeUpdate();\n",
    "    connection.commit();\n",
    "} catch (SQLException exc) {\n",
    "    //Cancel the whole transaction if there is a problem.\n",
    "    connection.rollback();\n",
    "} finally {\n",
    "    //restore autoCommit state\n",
    "    connection.setAutoCommit(autoCommit);\n",
    "}\n",
    "\n",
    "//Drop the table\n",
    "connection.createStatement().executeUpdate(\"DROP TABLE account\");\n",
    "\n",
    "connection.close();"
   ]
  },
  {
   "cell_type": "markdown",
   "metadata": {},
   "source": [
    "## Procédure stockées\n",
    "CallableStatement permet d'appeller une procédure stockée directement sur le SGBD. \n",
    "TODO"
   ]
  },
  {
   "cell_type": "code",
   "execution_count": 16,
   "metadata": {
    "vscode": {
     "languageId": "java"
    }
   },
   "outputs": [],
   "source": []
  },
  {
   "cell_type": "markdown",
   "metadata": {},
   "source": [
    "## Metadata\n",
    "* JDBC permet de récupérer des informations sur le type de données que l'on vient de récupérer par un SELECT (interface ResultSetMetaData),\n",
    "* mais aussi sur la base de données elle-même (interface DatabaseMetaData)\n",
    "* Les données que l'on peut récupérer avec DatabaseMetaData dépendent du SGBD avec lequel on travaille"
   ]
  },
  {
   "cell_type": "code",
   "execution_count": 17,
   "metadata": {
    "vscode": {
     "languageId": "java"
    }
   },
   "outputs": [
    {
     "name": "stderr",
     "output_type": "stream",
     "text": [
      "java.sql.SQLException: No suitable driver found for jdbc:h2:tcp://localhost/Gtfs_RMTT;MODE=PostgreSQL;DATABASE_TO_LOWER=TRUE\n"
     ]
    },
    {
     "name": "stderr",
     "output_type": "stream",
     "text": [
      "\tat java.sql/java.sql.DriverManager.getConnection(DriverManager.java:708)\n"
     ]
    },
    {
     "name": "stderr",
     "output_type": "stream",
     "text": [
      "\tat java.sql/java.sql.DriverManager.getConnection(DriverManager.java:230)\n"
     ]
    },
    {
     "name": "stderr",
     "output_type": "stream",
     "text": [
      "\tat REPL.$JShell$93.do_it$($JShell$93.java:59)\n"
     ]
    },
    {
     "name": "stderr",
     "output_type": "stream",
     "text": [
      "\tat java.base/jdk.internal.reflect.DirectMethodHandleAccessor.invoke(DirectMethodHandleAccessor.java:103)\n"
     ]
    },
    {
     "name": "stderr",
     "output_type": "stream",
     "text": [
      "\tat java.base/java.lang.reflect.Method.invoke(Method.java:580)\n"
     ]
    },
    {
     "name": "stderr",
     "output_type": "stream",
     "text": [
      "\tat io.github.spencerpark.ijava.execution.IJavaExecutionControl.lambda$execute$1(IJavaExecutionControl.java:95)\n"
     ]
    },
    {
     "name": "stderr",
     "output_type": "stream",
     "text": [
      "\tat java.base/java.util.concurrent.FutureTask.run(FutureTask.java:317)\n"
     ]
    },
    {
     "name": "stderr",
     "output_type": "stream",
     "text": [
      "\tat java.base/java.util.concurrent.ThreadPoolExecutor.runWorker(ThreadPoolExecutor.java:1144)\n"
     ]
    },
    {
     "name": "stderr",
     "output_type": "stream",
     "text": [
      "\tat java.base/java.util.concurrent.ThreadPoolExecutor$Worker.run(ThreadPoolExecutor.java:642)\n"
     ]
    },
    {
     "name": "stderr",
     "output_type": "stream",
     "text": [
      "\tat java.base/java.lang.Thread.run(Thread.java:1583)\n"
     ]
    }
   ],
   "source": [
    "//Lecture des metadonnées du serveur de base de données\n",
    "import java.sql.*;\n",
    "\n",
    "String jdbcURL=\"jdbc:h2:tcp://localhost/Gtfs_RMTT;MODE=PostgreSQL;DATABASE_TO_LOWER=TRUE\";\n",
    "\n",
    "try (Connection connection = DriverManager.getConnection(jdbcURL,\"sa\",\"\")) {\n",
    "\n",
    "                DatabaseMetaData metadata = connection.getMetaData();\n",
    "\n",
    "                //Print info about the database system\n",
    "                System.out.println(\"Database: \" + metadata.getDatabaseProductName()\n",
    "                        + \" \" + metadata.getDatabaseMajorVersion() + \".\" + metadata.getDatabaseMinorVersion());\n",
    "\n",
    "                System.out.println(connection.getCatalog() + \" \" + connection.getSchema());\n",
    "\n",
    "                //Retrieving the list of database names\n",
    "                ResultSet tables = metadata.getTables(connection.getCatalog(),\n",
    "                        connection.getSchema(),\n",
    "                        \"SIMPLEJDBC_PERSON\", null);\n",
    "\n",
    "                if (tables.next()) {\n",
    "                    System.out.println(\"Table \" + tables.getString(\"TABLE_NAME\") + \" already exist.\");\n",
    "                } else {\n",
    "                    connection.createStatement().execute(\"CREATE TABLE \\\"SIMPLEJDBC_PERSON\\\"(\" +\n",
    "                            \"    id INT PRIMARY KEY NOT NULL, \" +\n",
    "                            \"    firstname VARCHAR(100))\");\n",
    "                    System.out.println(\"Table SIMPLEJDBC_PERSON created.\");\n",
    "                }\n",
    "            } catch (SQLException e) {\n",
    "                e.printStackTrace();\n",
    "            }\n"
   ]
  },
  {
   "cell_type": "code",
   "execution_count": 18,
   "metadata": {
    "vscode": {
     "languageId": "java"
    }
   },
   "outputs": [
    {
     "ename": "EvalException",
     "evalue": "No suitable driver found for jdbc:h2:tcp://localhost/Gtfs_RMTT;MODE=PostgreSQL;DATABASE_TO_LOWER=TRUE",
     "output_type": "error",
     "traceback": [
      "\u001b[1m\u001b[31m---------------------------------------------------------------------------\u001b[0m",
      "\u001b[1m\u001b[31mjava.sql.SQLException: No suitable driver found for jdbc:h2:tcp://localhost/Gtfs_RMTT;MODE=PostgreSQL;DATABASE_TO_LOWER=TRUE\u001b[0m",
      "\u001b[1m\u001b[31m\tat java.sql/java.sql.DriverManager.getConnection(DriverManager.java:708)\u001b[0m",
      "\u001b[1m\u001b[31m\tat java.sql/java.sql.DriverManager.getConnection(DriverManager.java:230)\u001b[0m",
      "\u001b[1m\u001b[31m\tat .(#94:1)\u001b[0m"
     ]
    }
   ],
   "source": [
    "//Traitement des metadonnées d'un ResulSet\n",
    "//pour la découverte du nombre, du type et du nom des colonnes. \n",
    "String jdbcURL=\"jdbc:h2:tcp://localhost/Gtfs_RMTT;MODE=PostgreSQL;DATABASE_TO_LOWER=TRUE\";\n",
    "\n",
    "try (Connection connection = DriverManager.getConnection(jdbcURL,\"sa\",\"\");     \n",
    "     ResultSet rs = connection.createStatement().executeQuery(\"SELECT * FROM gtfs_stops\")) {\n",
    "\n",
    "  ResultSetMetaData rsmd = rs.getMetaData();\n",
    "  int nbColonnes = rsmd.getColumnCount();\n",
    "  for (int i = 1; i <= nbColonnes; i++) {\n",
    "    String typeColonne = rsmd.getColumnTypeName(i);\n",
    "    String nomColonne = rsmd.getColumnName(i);\n",
    "    System.out.println(\"Colonne \" + i + \" de nom \" + nomColonne + \" de type \" + typeColonne);\n",
    "  }\n",
    "}"
   ]
  },
  {
   "cell_type": "markdown",
   "metadata": {},
   "source": [
    "## ResultSet modifiables\n",
    "Il est aussi possible de paramétrer un ResultSet pour qu'il soit modifiable pendant la consultation et/ou que l'on puisse revenir en arrière."
   ]
  },
  {
   "cell_type": "code",
   "execution_count": 19,
   "metadata": {
    "vscode": {
     "languageId": "java"
    }
   },
   "outputs": [
    {
     "ename": "EvalException",
     "evalue": "No suitable driver found for jdbc:h2:tcp://localhost/Gtfs_RMTT;MODE=PostgreSQL;DATABASE_TO_LOWER=TRUE",
     "output_type": "error",
     "traceback": [
      "\u001b[1m\u001b[31m---------------------------------------------------------------------------\u001b[0m",
      "\u001b[1m\u001b[31mjava.sql.SQLException: No suitable driver found for jdbc:h2:tcp://localhost/Gtfs_RMTT;MODE=PostgreSQL;DATABASE_TO_LOWER=TRUE\u001b[0m",
      "\u001b[1m\u001b[31m\tat java.sql/java.sql.DriverManager.getConnection(DriverManager.java:708)\u001b[0m",
      "\u001b[1m\u001b[31m\tat java.sql/java.sql.DriverManager.getConnection(DriverManager.java:230)\u001b[0m",
      "\u001b[1m\u001b[31m\tat .(#95:1)\u001b[0m"
     ]
    }
   ],
   "source": [
    "try (Connection connection = DriverManager.getConnection(jdbcURL,\"sa\",\"\");     \n",
    "     ResultSet rs = connection.createStatement(ResultSet.TYPE_SCROLL_INSENSITIVE,ResultSet.CONCUR_UPDATABLE)\n",
    "         .executeQuery(\"SELECT * FROM gtfs_stops\")) {\n",
    "  \n",
    "//to be complete    \n",
    "\n",
    "}"
   ]
  },
  {
   "cell_type": "markdown",
   "metadata": {},
   "source": [
    "## Datasources\n",
    "Il est important de gérer l'ensemble des connexions qui sont ouvertes et idéalement de les réutiliser plutôt que de fermer/ouvrir. Cela peut être fait \"à la main\" en utilisant le concept de DataSource ou en utilisant une librairie comme [Apache DBCP](http://commons.apache.org/proper/commons-dbcp/).\n",
    "\n",
    "L'utilisation est simple on définit une classe qui paramètre une datasource qui gère un pool de connexion et fournit des connections : "
   ]
  },
  {
   "cell_type": "code",
   "execution_count": 20,
   "metadata": {
    "vscode": {
     "languageId": "java"
    }
   },
   "outputs": [],
   "source": [
    "%%loadFromPOM\n",
    "<dependency>\n",
    "    <groupId>org.apache.commons</groupId>\n",
    "    <artifactId>commons-dbcp2</artifactId>\n",
    "    <version>2.7.0</version>\n",
    "</dependency>"
   ]
  },
  {
   "cell_type": "code",
   "execution_count": 21,
   "metadata": {
    "vscode": {
     "languageId": "java"
    }
   },
   "outputs": [],
   "source": [
    "import org.apache.commons.dbcp2.BasicDataSource;\n",
    "\n",
    "import java.sql.Connection;\n",
    "import java.sql.SQLException;\n",
    "\n",
    "public class DBCPDataSource {\n",
    "\n",
    "    private static BasicDataSource ds = new BasicDataSource();\n",
    "\n",
    "    static {\n",
    "        ds.setUrl(jdbcURL);\n",
    "        ds.setUsername(\"sa\");\n",
    "        ds.setPassword(\"\");\n",
    "\n",
    "        ds.setMinIdle(5);\n",
    "        ds.setMaxIdle(10);\n",
    "        ds.setMaxOpenPreparedStatements(100);\n",
    "    }\n",
    "\n",
    "    private DBCPDataSource() {\n",
    "    }\n",
    "\n",
    "    public static Connection getConnection() throws SQLException {\n",
    "        return ds.getConnection();\n",
    "    }\n",
    "}"
   ]
  },
  {
   "cell_type": "markdown",
   "metadata": {},
   "source": [
    "Il suffit ensuite de demander et de rendre une connexion (le close ne ferme pas forcément la connexion)."
   ]
  },
  {
   "cell_type": "code",
   "execution_count": 22,
   "metadata": {
    "vscode": {
     "languageId": "java"
    }
   },
   "outputs": [
    {
     "name": "stdout",
     "output_type": "stream",
     "text": [
      "Cannot create JDBC driver of class '' for connect URL 'jdbc:h2:tcp://localhost/Gtfs_RMTT;MODE=PostgreSQL;DATABASE_TO_LOWER=TRUE'\n",
      "java.sql.SQLException: No suitable driver\n",
      "\tat java.sql/java.sql.DriverManager.getDriver(DriverManager.java:300)\n",
      "\tat org.apache.commons.dbcp2.DriverFactory.createDriver(DriverFactory.java:60)\n",
      "\tat org.apache.commons.dbcp2.BasicDataSource.createConnectionFactory(BasicDataSource.java:472)\n",
      "\tat org.apache.commons.dbcp2.BasicDataSource.createDataSource(BasicDataSource.java:538)\n",
      "\tat org.a"
     ]
    },
    {
     "name": "stdout",
     "output_type": "stream",
     "text": [
      "pache.commons.dbcp2.BasicDataSource.getConnection(BasicDataSource.java:753)\n",
      "\tat REPL.$JShell$100$DBCPDataSource.getConnection($JShell$100.java:79)\n",
      "\tat REPL.$JShell$101.do_it$($JShell$101.java:59)\n",
      "\tat java.base/jdk.internal.reflect.DirectMethodHandleAccessor.invoke(DirectMethodHandleAccessor.java:103)\n",
      "\tat java.base/java.lang.reflect.Method.invoke(Method.java:580)\n",
      "\tat io.github.spencerpark.ijava.execution.IJavaExecutionControl.lambda$execute$1(IJavaExecutionControl.java:95)\n",
      "\tat java.base/java.util.concurrent."
     ]
    },
    {
     "name": "stderr",
     "output_type": "stream",
     "text": [
      "java.sql.SQLException: Cannot create JDBC driver of class '' for connect URL 'jdbc:h2:tcp://localhost/Gtfs_RMTT;MODE=PostgreSQL;DATABASE_TO_LOWER=TRUE'\n"
     ]
    },
    {
     "name": "stderr",
     "output_type": "stream",
     "text": [
      "\tat org.apache.commons.dbcp2.DriverFactory.createDriver(DriverFactory.java:75)\n"
     ]
    },
    {
     "name": "stderr",
     "output_type": "stream",
     "text": [
      "\tat org.apache.commons.dbcp2.BasicDataSource.createConnectionFactory(BasicDataSource.java:472)\n"
     ]
    },
    {
     "name": "stderr",
     "output_type": "stream",
     "text": [
      "\tat org.apache.commons.dbcp2.BasicDataSource.createDataSource(BasicDataSource.java:538)\n"
     ]
    },
    {
     "name": "stderr",
     "output_type": "stream",
     "text": [
      "\tat org.apache.commons.dbcp2.BasicDataSource.getConnection(BasicDataSource.java:753)\n"
     ]
    },
    {
     "name": "stderr",
     "output_type": "stream",
     "text": [
      "\tat REPL.$JShell$100$DBCPDataSource.getConnection($JShell$100.java:79)\n"
     ]
    },
    {
     "name": "stderr",
     "output_type": "stream",
     "text": [
      "\tat REPL.$JShell$101.do_it$($JShell$101.java:59)\n"
     ]
    },
    {
     "name": "stderr",
     "output_type": "stream",
     "text": [
      "\tat java.base/jdk.internal.reflect.DirectMethodHandleAccessor.invoke(DirectMethodHandleAccessor.java:103)\n"
     ]
    },
    {
     "name": "stderr",
     "output_type": "stream",
     "text": [
      "\tat java.base/java.lang.reflect.Method.invoke(Method.java:580)\n"
     ]
    },
    {
     "name": "stderr",
     "output_type": "stream",
     "text": [
      "\tat io.github.spencerpark.ijava.execution.IJavaExecutionControl.lambda$execute$1(IJavaExecutionControl.java:95)\n"
     ]
    },
    {
     "name": "stderr",
     "output_type": "stream",
     "text": [
      "\tat java.base/java.util.concurrent.FutureTask.run(FutureTask.java:317)\n"
     ]
    },
    {
     "name": "stderr",
     "output_type": "stream",
     "text": [
      "\tat java.base/java.util.concurrent.ThreadPoolExecutor.runWorker(ThreadPoolExecutor.java:1144)\n"
     ]
    },
    {
     "name": "stderr",
     "output_type": "stream",
     "text": [
      "\tat java.base/java.util.concurrent.ThreadPoolExecutor$Worker.run(ThreadPoolExecutor.java:642)\n"
     ]
    },
    {
     "name": "stderr",
     "output_type": "stream",
     "text": [
      "\tat java.base/java.lang.Thread.run(Thread.java:1583)\n"
     ]
    },
    {
     "name": "stderr",
     "output_type": "stream",
     "text": [
      "Caused by: java.sql.SQLException: No suitable driver\n"
     ]
    },
    {
     "name": "stderr",
     "output_type": "stream",
     "text": [
      "\tat java.sql/java.sql.DriverManager.getDriver(DriverManager.java:300)\n"
     ]
    },
    {
     "name": "stderr",
     "output_type": "stream",
     "text": [
      "\tat org.apache.commons.dbcp2.DriverFactory.createDriver(DriverFactory.java:60)\n"
     ]
    },
    {
     "name": "stderr",
     "output_type": "stream",
     "text": [
      "\t... 12 more\n"
     ]
    }
   ],
   "source": [
    "try (Connection connection=DBCPDataSource.getConnection()) {\n",
    "    Statement statement = connection.createStatement();\n",
    "    ResultSet resultSet = statement.executeQuery(\"SELECT * FROM gtfs_stops LIMIT 2\");\n",
    "    List<Stop> stops = new ArrayList<>();\n",
    "    \n",
    "            while (resultSet.next()) {\n",
    "             stops.add(new Stop(resultSet.getLong(\"stop_id\"),\n",
    "                resultSet.getString(\"stop_name\"),\n",
    "                resultSet.getFloat(\"stop_lat\"),\n",
    "                resultSet.getFloat(\"stop_lon\"),\n",
    "                resultSet.getString(\"stop_code\")));\n",
    "            }\n",
    "            System.out.println(stops);\n",
    "        } catch (SQLException e) {\n",
    "            //Erreur lors de la requête\n",
    "            e.printStackTrace();\n",
    "        }"
   ]
  },
  {
   "cell_type": "markdown",
   "metadata": {},
   "source": [
    "## Batch Update\n",
    "Pour des ajouts en masse pensez à utiliser les batch updates mais attention aux transactions."
   ]
  },
  {
   "cell_type": "code",
   "execution_count": 23,
   "metadata": {
    "vscode": {
     "languageId": "java"
    }
   },
   "outputs": [
    {
     "ename": "EvalException",
     "evalue": "No suitable driver found for jdbc:h2:tcp://localhost/Gtfs_RMTT;MODE=PostgreSQL;DATABASE_TO_LOWER=TRUE",
     "output_type": "error",
     "traceback": [
      "\u001b[1m\u001b[31m---------------------------------------------------------------------------\u001b[0m",
      "\u001b[1m\u001b[31mjava.sql.SQLException: No suitable driver found for jdbc:h2:tcp://localhost/Gtfs_RMTT;MODE=PostgreSQL;DATABASE_TO_LOWER=TRUE\u001b[0m",
      "\u001b[1m\u001b[31m\tat java.sql/java.sql.DriverManager.getConnection(DriverManager.java:708)\u001b[0m",
      "\u001b[1m\u001b[31m\tat java.sql/java.sql.DriverManager.getConnection(DriverManager.java:230)\u001b[0m",
      "\u001b[1m\u001b[31m\tat .(#102:1)\u001b[0m"
     ]
    }
   ],
   "source": [
    "try (Connection connection = DriverManager.getConnection(jdbcURL,\"sa\",\"\")) {  \n",
    "     \n",
    "  //Création d'une table PERSONNE\n",
    "  String createAccountTableSql=\"CREATE TABLE PERSONNE (\"+\n",
    "    \"id SERIAL PRIMARY KEY,\"+\n",
    "    \"email VARCHAR(100) NOT NULL,\"+\n",
    "    \"nom VARCHAR(100) NOT NULL,\"+\n",
    "    \"prenom VARCHAR(100) NOT NULL)\";\n",
    "  Statement statement = connection.createStatement();\n",
    "  statement.executeUpdate(createAccountTableSql);\n",
    "  statement.close();     \n",
    "     \n",
    "  PreparedStatement pstmt = \n",
    "        connection.prepareStatement(\"INSERT INTO PERSONNE (email, nom, prenom) VALUES(?, ?, ?)\");\n",
    " \n",
    "  //On ajoute les exécution une à une ...\n",
    "  connection.setAutoCommit(false);\n",
    " \n",
    "  // On fixe les paramètres de la première requête à exécuter\n",
    "  pstmt.setString( 1, \"p1.n1@...\");\n",
    "  pstmt.setString( 2, \"n1\" );\n",
    "  pstmt.setString( 3, \"p1\" );\n",
    "  // Et on l'ajoute au batch\n",
    "  pstmt.addBatch();\n",
    " \n",
    "  // On fixe les paramètres de la seconde requête à exécuter\n",
    "  pstmt.setString( 1, \"p2.n2@...\");\n",
    "  pstmt.setString( 2, \"n2\" );\n",
    "  pstmt.setString( 3, \"p2\" );\n",
    "  // Et on l'ajoute au batch\n",
    "  pstmt.addBatch();\n",
    " \n",
    "  // On ajoute autant de requêtes que nécessaire\n",
    "  //Par exemple en lisant un flux de données.\n",
    "\n",
    "\n",
    "  //On créée un tableau d'entiers pour recevoir les résultats.\n",
    "  //et on execute toutes les mises à jour en une fois.\n",
    "  int[] affectedRecords = pstmt.executeBatch();\n",
    " \n",
    "  System.out.println(Arrays.toString(affectedRecords));\n",
    "    \n",
    "  //On valide les changements.\n",
    "  connection.commit();\n",
    "    \n",
    "  //Drop the table\n",
    "  connection.createStatement().executeUpdate(\"DROP TABLE PERSONNE\");    \n",
    "}    "
   ]
  },
  {
   "cell_type": "markdown",
   "metadata": {},
   "source": [
    "## DAO\n",
    "La couche DAO (Data abstraction Object) permet d'abstraire totalement l'interaction avec le support de persistance (ici la base de donnée relationnelle).\n",
    "Elle centralise les opérations spécifique et transforme les exceptions spécifiques en exceptions applicatives.\n",
    "\n",
    "Une classe DAO peut être associée à chaque entité. Comme la structure est très répétive, la définition d'une interface et d'un classe générique est fortement recommandée. \n",
    "\n",
    "Ci-dessous les grandes lignes d'une DAO de base."
   ]
  },
  {
   "cell_type": "code",
   "execution_count": 24,
   "metadata": {
    "vscode": {
     "languageId": "java"
    }
   },
   "outputs": [],
   "source": [
    "//Définir plus finement les exceptions\n",
    "public class DataAccessException extends Exception {}\n",
    "\n",
    "//L'utilisation de la pagination des résultats est obligatoire\n",
    "public record Page<T>(int pageNumber, int pageSize, List<T> resultList) {}\n",
    "\n",
    "//Remplacer par une Exception métier\n",
    "public interface DAO<E> {\n",
    "    E find(long id) throws DataAccessException;    \n",
    "    Page<E> findAll() throws DataAccessException;\n",
    "    Page<E> findAll(int pageNumber, int pageSize) throws DataAccessException; \n",
    "    E persist(E entity) throws DataAccessException;\n",
    "    E update(E entity) throws DataAccessException;\n",
    "    void remove(E entity) throws DataAccessException;\n",
    "    void close() throws DataAccessException;\n",
    "}\n",
    "\n",
    "\n",
    "//Un record est une type de class particulier introduit avec Java 16\n",
    "//qui permet de déclarer simplement des classes dédiées au transfert de données \n",
    "//cf. https://docs.oracle.com/en/java/javase/16/language/records.html\n",
    "public record Personne(long id,String email,String nom,String prenom) { }\n",
    "\n",
    "public class PersonDAO implements DAO<Personne> {\n",
    "    //La connection vers la base de données \n",
    "    private final Connection connection;\n",
    "    private final PreparedStatement pstmt_insert;\n",
    "    private final PreparedStatement pstmt_find;\n",
    "\n",
    "    /*\n",
    "    // Un construction qui obtient automatiquement la connection\n",
    "    public PersonDAO() throws DataAccessException {\n",
    "        this(METTRE ICI LE CODE D'OBTENTION D'UNE CONNECTION DANS LA DATASOURCE);\n",
    "    }*/\n",
    "    \n",
    "    //ATTENTION A LA GESTION DES TRANSACTIONS\n",
    "    public PersonDAO(Connection connection) throws DataAccessException {\n",
    "        try {\n",
    "            this.connection = connection; \n",
    "            pstmt_insert = connection.prepareStatement(\"INSERT INTO PERSONNE (email, nom, prenom) VALUES(?, ?, ?)\");\n",
    "            pstmt_find = connection.prepareStatement(\"SELECT id, email, nom, prenom FROM PERSONNE WHERE id = ?\");\n",
    "        } catch (java.sql.SQLException e) {throw new DataAccessException();}\n",
    "    }\n",
    "    \n",
    "    public Personne find(long id) {\n",
    "        return new Personne(-1,\"a.b@x.y.fr\",\"MonNom\",\"MonPrenom\");\n",
    "    }\n",
    "\n",
    "    //Définir une classe générique pour la pagination\n",
    "    public Page<Personne> findAll() {return findAll(1,100);}\n",
    "    public Page<Personne> findAll(int pageNumber, int pageSize) { \n",
    "        List<Personne> resultList = new ArrayList<Personne>();\n",
    "        //Completer avec un prepared statement \n",
    "        return new Page<Personne>(pageNumber, pageSize, resultList); \n",
    "    }\n",
    "\n",
    "    public Personne persist(Personne personne) { \n",
    "        return personne; \n",
    "    }\n",
    "    public Personne update(Personne personne) {\n",
    "        //Completer avec un prepared statement \n",
    "        return personne; \n",
    "    }\n",
    "    public void remove(Personne personne) {\n",
    "        //Completer avec un prepared statement \n",
    "        }\n",
    "    public void close() throws DataAccessException {\n",
    "        try {\n",
    "            connection.close(); \n",
    "        } catch (java.sql.SQLException e) {throw new DataAccessException();}\n",
    "    }\n",
    "}    "
   ]
  },
  {
   "cell_type": "markdown",
   "metadata": {},
   "source": [
    "## Un exemple \"Simple\"\n",
    "\n",
    "Pour finir voilà un exemple \"Simple\" d'utilisation d'une Datasource et de d'une DAO avec JDBC avec le SGBD H2.\n",
    "\n",
    "L'exemple ci-dessous utilise une base de donnée H2 qui est exécutée directement depuis l'application."
   ]
  },
  {
   "cell_type": "code",
   "execution_count": 25,
   "metadata": {
    "vscode": {
     "languageId": "java"
    }
   },
   "outputs": [
    {
     "name": "stderr",
     "output_type": "stream",
     "text": [
      "Cloning into 'sample-jdbcdao'...\n"
     ]
    }
   ],
   "source": [
    "%%shell\n",
    "mkdir -p /home/jovyan/work/src/github/ebpro\n",
    "cd /home/jovyan/work/src/github/ebpro\n",
    "rm -rf sample-jdbcdao\n",
    "git clone https://github.com/ebpro/sample-jdbcdao"
   ]
  },
  {
   "cell_type": "markdown",
   "metadata": {},
   "source": [
    "La classe StartH2 est un exemple pour exécuter H2 depuis Java. A ne faire qu'une seule fois dans le notebook."
   ]
  },
  {
   "cell_type": "code",
   "execution_count": 26,
   "metadata": {
    "vscode": {
     "languageId": "java"
    }
   },
   "outputs": [],
   "source": [
    "%%shell\n",
    "cd /home/jovyan/work/src/github/ebpro/sample-jdbcdao\n",
    "rm -f /tmp/db/test.mv.db\n",
    "mvn --quiet -ntp package exec:java -Dexec.mainClass=fr.univtln.bruno.jdbcdao.persistence.StartH2 &\n",
    "sleep 2"
   ]
  },
  {
   "cell_type": "code",
   "execution_count": 27,
   "metadata": {
    "vscode": {
     "languageId": "java"
    }
   },
   "outputs": [
    {
     "name": "stderr",
     "output_type": "stream",
     "text": [
      "Mar 05, 2024 1:14:13 PM fr.univtln.bruno.jdbcdao.persistence.daos.AbstractDAO <init>\n"
     ]
    },
    {
     "name": "stderr",
     "output_type": "stream",
     "text": [
      "WARNING: PERSONNE DAO Created.\n"
     ]
    },
    {
     "name": "stderr",
     "output_type": "stream",
     "text": [
      "Mar 05, 2024 1:14:13 PM fr.univtln.bruno.jdbcdao.persistence.daos.AbstractDAO <init>\n"
     ]
    },
    {
     "name": "stderr",
     "output_type": "stream",
     "text": [
      "WARNING: PERSONNE DAO Created.\n"
     ]
    },
    {
     "name": "stderr",
     "output_type": "stream",
     "text": [
      "Mar 05, 2024 1:14:13 PM fr.univtln.bruno.jdbcdao.persistence.daos.AbstractDAO <init>\n"
     ]
    },
    {
     "name": "stderr",
     "output_type": "stream",
     "text": [
      "WARNING: PERSONNE DAO Created.\n"
     ]
    },
    {
     "name": "stderr",
     "output_type": "stream",
     "text": [
      "Mar 05, 2024 1:14:13 PM fr.univtln.bruno.jdbcdao.persistence.daos.AbstractDAO <init>\n"
     ]
    },
    {
     "name": "stderr",
     "output_type": "stream",
     "text": [
      "WARNING: PERSONNE DAO Created.\n"
     ]
    },
    {
     "name": "stderr",
     "output_type": "stream",
     "text": [
      "[main] INFO fr.univtln.bruno.jdbcdao.persistence.daos.PersonneDAOTest - Personne(id=351, nom=X, prenom=Y)\n"
     ]
    },
    {
     "name": "stderr",
     "output_type": "stream",
     "text": [
      "Mar 05, 2024 1:14:13 PM fr.univtln.bruno.jdbcdao.persistence.daos.AbstractDAO <init>\n"
     ]
    },
    {
     "name": "stderr",
     "output_type": "stream",
     "text": [
      "WARNING: PERSONNE DAO Created.\n"
     ]
    },
    {
     "name": "stderr",
     "output_type": "stream",
     "text": [
      "Mar 05, 2024 1:14:13 PM fr.univtln.bruno.jdbcdao.persistence.daos.AbstractDAO <init>\n"
     ]
    },
    {
     "name": "stderr",
     "output_type": "stream",
     "text": [
      "WARNING: PERSONNE DAO Created.\n"
     ]
    },
    {
     "name": "stderr",
     "output_type": "stream",
     "text": [
      "Mar 05, 2024 1:14:13 PM fr.univtln.bruno.jdbcdao.persistence.daos.AbstractDAO <init>\n"
     ]
    },
    {
     "name": "stderr",
     "output_type": "stream",
     "text": [
      "WARNING: PERSONNE DAO Created.\n"
     ]
    },
    {
     "name": "stderr",
     "output_type": "stream",
     "text": [
      "Mar 05, 2024 1:14:13 PM fr.univtln.bruno.jdbcdao.persistence.daos.AbstractDAO <init>\n"
     ]
    },
    {
     "name": "stderr",
     "output_type": "stream",
     "text": [
      "WARNING: PERSONNE DAO Created.\n"
     ]
    },
    {
     "name": "stderr",
     "output_type": "stream",
     "text": [
      "Mar 05, 2024 1:14:13 PM fr.univtln.bruno.jdbcdao.persistence.daos.AbstractDAO <init>\n"
     ]
    },
    {
     "name": "stderr",
     "output_type": "stream",
     "text": [
      "WARNING: PERSONNE DAO Created.\n"
     ]
    },
    {
     "name": "stderr",
     "output_type": "stream",
     "text": [
      "Mar 05, 2024 1:14:14 PM fr.univtln.bruno.jdbcdao.persistence.daos.AbstractDAO <init>\n"
     ]
    },
    {
     "name": "stderr",
     "output_type": "stream",
     "text": [
      "WARNING: PERSONNE DAO Created.\n"
     ]
    },
    {
     "name": "stderr",
     "output_type": "stream",
     "text": [
      "Mar 05, 2024 1:14:14 PM fr.univtln.bruno.jdbcdao.persistence.StartH2 main\n"
     ]
    },
    {
     "name": "stderr",
     "output_type": "stream",
     "text": [
      "INFO: Server start error. Exception opening port \"9092\" (port may be in use), cause: \"java.net.BindException: Address already in use\" [90061-224]\n"
     ]
    },
    {
     "name": "stderr",
     "output_type": "stream",
     "text": [
      "[main] INFO fr.univtln.bruno.jdbcdao.persistence.daos.PersonneDAOTest - Personne(id=351, nom=X, prenom=Y)\n"
     ]
    },
    {
     "name": "stderr",
     "output_type": "stream",
     "text": [
      "Mar 05, 2024 1:14:14 PM fr.univtln.bruno.jdbcdao.persistence.daos.AbstractDAO <init>\n"
     ]
    },
    {
     "name": "stderr",
     "output_type": "stream",
     "text": [
      "WARNING: PERSONNE DAO Created.\n"
     ]
    },
    {
     "name": "stderr",
     "output_type": "stream",
     "text": [
      "Mar 05, 2024 1:14:14 PM fr.univtln.bruno.jdbcdao.persistence.daos.AbstractDAO <init>\n"
     ]
    },
    {
     "name": "stderr",
     "output_type": "stream",
     "text": [
      "WARNING: PERSONNE DAO Created.\n"
     ]
    }
   ],
   "source": [
    "%%shell\n",
    "cd /home/jovyan/work/src/github/ebpro/sample-jdbcdao\n",
    "mvn --quiet package "
   ]
  },
  {
   "cell_type": "code",
   "execution_count": 28,
   "metadata": {
    "vscode": {
     "languageId": "java"
    }
   },
   "outputs": [
    {
     "name": "stdout",
     "output_type": "stream",
     "text": [
      "[INFO] Scanning for projects...\n"
     ]
    },
    {
     "name": "stdout",
     "output_type": "stream",
     "text": [
      "[INFO] \n"
     ]
    },
    {
     "name": "stdout",
     "output_type": "stream",
     "text": [
      "[INFO] ----------------------< fr.univtln.bruno:JdbcDao >----------------------\n"
     ]
    },
    {
     "name": "stdout",
     "output_type": "stream",
     "text": [
      "[INFO] Building JDBC DAO 1.0-SNAPSHOT\n"
     ]
    },
    {
     "name": "stdout",
     "output_type": "stream",
     "text": [
      "[INFO]   from pom.xml\n"
     ]
    },
    {
     "name": "stdout",
     "output_type": "stream",
     "text": [
      "[INFO] --------------------------------[ jar ]---------------------------------\n"
     ]
    },
    {
     "name": "stdout",
     "output_type": "stream",
     "text": [
      "[INFO] \n"
     ]
    },
    {
     "name": "stdout",
     "output_type": "stream",
     "text": [
      "[INFO] --- exec:3.1.0:java (default-cli) @ JdbcDao ---\n"
     ]
    },
    {
     "name": "stderr",
     "output_type": "stream",
     "text": [
      "Mar 05, 2024 1:14:15 PM fr.univtln.bruno.jdbcdao.persistence.daos.AbstractDAO <init>\n"
     ]
    },
    {
     "name": "stderr",
     "output_type": "stream",
     "text": [
      "WARNING: PERSONNE DAO Created.\n"
     ]
    },
    {
     "name": "stderr",
     "output_type": "stream",
     "text": [
      "Mar 05, 2024 1:14:15 PM fr.univtln.bruno.jdbcdao.persistence.App main\n"
     ]
    },
    {
     "name": "stderr",
     "output_type": "stream",
     "text": [
      "INFO:  p1 persisted Personne(id=1, nom=A, prenom=B)\n"
     ]
    },
    {
     "name": "stderr",
     "output_type": "stream",
     "text": [
      "Mar 05, 2024 1:14:15 PM fr.univtln.bruno.jdbcdao.persistence.App main\n"
     ]
    },
    {
     "name": "stderr",
     "output_type": "stream",
     "text": [
      "INFO: Personne 1 : Personne(id=1, nom=A, prenom=B)\n"
     ]
    },
    {
     "name": "stderr",
     "output_type": "stream",
     "text": [
      "Mar 05, 2024 1:14:15 PM fr.univtln.bruno.jdbcdao.persistence.App main\n"
     ]
    },
    {
     "name": "stderr",
     "output_type": "stream",
     "text": [
      "SEVERE: Personne -1 not found\n"
     ]
    },
    {
     "name": "stderr",
     "output_type": "stream",
     "text": [
      "Mar 05, 2024 1:14:15 PM fr.univtln.bruno.jdbcdao.persistence.App main\n"
     ]
    },
    {
     "name": "stderr",
     "output_type": "stream",
     "text": [
      "INFO: Personne 1 (new): Personne(id=1, nom=AA, prenom=BB)\n"
     ]
    },
    {
     "name": "stderr",
     "output_type": "stream",
     "text": [
      "Mar 05, 2024 1:14:16 PM fr.univtln.bruno.jdbcdao.persistence.App main\n"
     ]
    },
    {
     "name": "stderr",
     "output_type": "stream",
     "text": [
      "INFO: Page[pageNumber=1, pageSize=10, resultList=[Personne(id=2, nom=Durand, prenom=Jacques), Personne(id=3, nom=Dupond, prenom=Paul), Personne(id=5, nom=Laforge, prenom=Henry), Personne(id=6, nom=Laforge, prenom=Marie)]]\n"
     ]
    },
    {
     "name": "stderr",
     "output_type": "stream",
     "text": [
      "Mar 05, 2024 1:14:16 PM fr.univtln.bruno.jdbcdao.persistence.daos.AbstractDAO <init>\n"
     ]
    },
    {
     "name": "stderr",
     "output_type": "stream",
     "text": [
      "WARNING: CHIEN DAO Created.\n"
     ]
    },
    {
     "name": "stderr",
     "output_type": "stream",
     "text": [
      "Mar 05, 2024 1:14:16 PM fr.univtln.bruno.jdbcdao.persistence.daos.AbstractDAO <init>\n"
     ]
    },
    {
     "name": "stderr",
     "output_type": "stream",
     "text": [
      "WARNING: PERSONNE DAO Created.\n"
     ]
    },
    {
     "name": "stderr",
     "output_type": "stream",
     "text": [
      "Mar 05, 2024 1:14:16 PM fr.univtln.bruno.jdbcdao.persistence.App main\n"
     ]
    },
    {
     "name": "stderr",
     "output_type": "stream",
     "text": [
      "INFO: Le Chien: Chien(id=1, nom=Rex, maitre=Personne(id=7, nom=Le, prenom=Maitre))\n"
     ]
    },
    {
     "name": "stderr",
     "output_type": "stream",
     "text": [
      "Mar 05, 2024 1:14:16 PM fr.univtln.bruno.jdbcdao.persistence.daos.AbstractDAO <init>\n"
     ]
    },
    {
     "name": "stderr",
     "output_type": "stream",
     "text": [
      "WARNING: PERSONNE DAO Created.\n"
     ]
    },
    {
     "name": "stderr",
     "output_type": "stream",
     "text": [
      "Mar 05, 2024 1:14:16 PM fr.univtln.bruno.jdbcdao.persistence.App main\n"
     ]
    },
    {
     "name": "stderr",
     "output_type": "stream",
     "text": [
      "INFO: Toujours le chien: Chien(id=1, nom=Rex, maitre=Personne(id=7, nom=Le, prenom=Maitre))\n"
     ]
    },
    {
     "name": "stderr",
     "output_type": "stream",
     "text": [
      "Mar 05, 2024 1:14:16 PM fr.univtln.bruno.jdbcdao.persistence.daos.AbstractDAO <init>\n"
     ]
    },
    {
     "name": "stderr",
     "output_type": "stream",
     "text": [
      "WARNING: PERSONNE DAO Created.\n"
     ]
    },
    {
     "name": "stderr",
     "output_type": "stream",
     "text": [
      "Mar 05, 2024 1:14:16 PM fr.univtln.bruno.jdbcdao.persistence.App main\n"
     ]
    },
    {
     "name": "stderr",
     "output_type": "stream",
     "text": [
      "INFO: Le chien sans maitre: Chien(id=1, nom=Rex, maitre=null)\n"
     ]
    },
    {
     "name": "stdout",
     "output_type": "stream",
     "text": [
      "[INFO] ------------------------------------------------------------------------\n"
     ]
    },
    {
     "name": "stdout",
     "output_type": "stream",
     "text": [
      "[INFO] BUILD SUCCESS\n"
     ]
    },
    {
     "name": "stdout",
     "output_type": "stream",
     "text": [
      "[INFO] ------------------------------------------------------------------------\n"
     ]
    },
    {
     "name": "stdout",
     "output_type": "stream",
     "text": [
      "[INFO] Total time:  0.574 s\n"
     ]
    },
    {
     "name": "stdout",
     "output_type": "stream",
     "text": [
      "[INFO] Finished at: 2024-03-05T13:14:16Z\n"
     ]
    },
    {
     "name": "stdout",
     "output_type": "stream",
     "text": [
      "[INFO] ------------------------------------------------------------------------\n"
     ]
    }
   ],
   "source": [
    "%%shell\n",
    "cd /home/jovyan/work/src/github/ebpro/sample-jdbcdao\n",
    "mvn exec:java -Dexec.mainClass=fr.univtln.bruno.jdbcdao.persistence.App"
   ]
  },
  {
   "cell_type": "markdown",
   "metadata": {},
   "source": [
    "Cette application peut être étudiée, testée et modifiée depuis l'éditeur Visual Code intégré (cliquer sur + en haut à droite puis lancer VS Code IDE)."
   ]
  }
 ],
 "metadata": {
  "kernelspec": {
   "display_name": "Java [conda env:root] *",
   "language": "java",
   "name": "conda-root-java"
  },
  "language_info": {
   "codemirror_mode": "java",
   "file_extension": ".jshell",
   "mimetype": "text/x-java-source",
   "name": "Java",
   "pygments_lexer": "java",
   "version": "21.0.2+13-LTS"
  }
 },
 "nbformat": 4,
 "nbformat_minor": 4
}
